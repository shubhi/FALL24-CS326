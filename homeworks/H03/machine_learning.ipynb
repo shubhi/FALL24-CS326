{
 "cells": [
  {
   "cell_type": "code",
   "execution_count": 62,
   "metadata": {},
   "outputs": [
    {
     "name": "stdout",
     "output_type": "stream",
     "text": [
      "Collecting nbformat\n",
      "  Using cached nbformat-5.10.4-py3-none-any.whl.metadata (3.6 kB)\n",
      "Collecting fastjsonschema>=2.15 (from nbformat)\n",
      "  Using cached fastjsonschema-2.20.0-py3-none-any.whl.metadata (2.1 kB)\n",
      "Collecting jsonschema>=2.6 (from nbformat)\n",
      "  Using cached jsonschema-4.23.0-py3-none-any.whl.metadata (7.9 kB)\n",
      "Requirement already satisfied: jupyter-core!=5.0.*,>=4.12 in /Users/shubhigupta/Documents/GitHub/FALL24-CS326/venv/lib/python3.12/site-packages (from nbformat) (5.7.2)\n",
      "Requirement already satisfied: traitlets>=5.1 in /Users/shubhigupta/Documents/GitHub/FALL24-CS326/venv/lib/python3.12/site-packages (from nbformat) (5.14.3)\n",
      "Collecting attrs>=22.2.0 (from jsonschema>=2.6->nbformat)\n",
      "  Using cached attrs-24.2.0-py3-none-any.whl.metadata (11 kB)\n",
      "Collecting jsonschema-specifications>=2023.03.6 (from jsonschema>=2.6->nbformat)\n",
      "  Using cached jsonschema_specifications-2024.10.1-py3-none-any.whl.metadata (3.0 kB)\n",
      "Collecting referencing>=0.28.4 (from jsonschema>=2.6->nbformat)\n",
      "  Using cached referencing-0.35.1-py3-none-any.whl.metadata (2.8 kB)\n",
      "Collecting rpds-py>=0.7.1 (from jsonschema>=2.6->nbformat)\n",
      "  Using cached rpds_py-0.20.0-cp312-cp312-macosx_11_0_arm64.whl.metadata (4.2 kB)\n",
      "Requirement already satisfied: platformdirs>=2.5 in /Users/shubhigupta/Documents/GitHub/FALL24-CS326/venv/lib/python3.12/site-packages (from jupyter-core!=5.0.*,>=4.12->nbformat) (4.3.6)\n",
      "Using cached nbformat-5.10.4-py3-none-any.whl (78 kB)\n",
      "Using cached fastjsonschema-2.20.0-py3-none-any.whl (23 kB)\n",
      "Using cached jsonschema-4.23.0-py3-none-any.whl (88 kB)\n",
      "Using cached attrs-24.2.0-py3-none-any.whl (63 kB)\n",
      "Using cached jsonschema_specifications-2024.10.1-py3-none-any.whl (18 kB)\n",
      "Using cached referencing-0.35.1-py3-none-any.whl (26 kB)\n",
      "Using cached rpds_py-0.20.0-cp312-cp312-macosx_11_0_arm64.whl (313 kB)\n",
      "Installing collected packages: fastjsonschema, rpds-py, attrs, referencing, jsonschema-specifications, jsonschema, nbformat\n",
      "Successfully installed attrs-24.2.0 fastjsonschema-2.20.0 jsonschema-4.23.0 jsonschema-specifications-2024.10.1 nbformat-5.10.4 referencing-0.35.1 rpds-py-0.20.0\n"
     ]
    }
   ],
   "source": [
    "!pip install nbformat "
   ]
  },
  {
   "cell_type": "markdown",
   "metadata": {},
   "source": [
    "# H.03 | Penguins\n",
    "\n",
    "We'll revisit our penguin friends for H.03. Over the course of this homework assignment, you will be asked to train a number of classification and regression models to predict the species of a penguin and the body mass of a penguin. We will utilize the NumPy, Pandas, and Scikit-Learn libraries to accomplish this task."
   ]
  },
  {
   "cell_type": "code",
   "execution_count": 1,
   "metadata": {},
   "outputs": [
    {
     "data": {
      "text/html": [
       "<div>\n",
       "<style scoped>\n",
       "    .dataframe tbody tr th:only-of-type {\n",
       "        vertical-align: middle;\n",
       "    }\n",
       "\n",
       "    .dataframe tbody tr th {\n",
       "        vertical-align: top;\n",
       "    }\n",
       "\n",
       "    .dataframe thead th {\n",
       "        text-align: right;\n",
       "    }\n",
       "</style>\n",
       "<table border=\"1\" class=\"dataframe\">\n",
       "  <thead>\n",
       "    <tr style=\"text-align: right;\">\n",
       "      <th></th>\n",
       "      <th>bill_length_mm</th>\n",
       "      <th>bill_depth_mm</th>\n",
       "      <th>flipper_length_mm</th>\n",
       "      <th>body_mass_g</th>\n",
       "      <th>species</th>\n",
       "    </tr>\n",
       "  </thead>\n",
       "  <tbody>\n",
       "    <tr>\n",
       "      <th>0</th>\n",
       "      <td>39.1</td>\n",
       "      <td>18.7</td>\n",
       "      <td>181.0</td>\n",
       "      <td>3750.0</td>\n",
       "      <td>Adelie</td>\n",
       "    </tr>\n",
       "    <tr>\n",
       "      <th>1</th>\n",
       "      <td>39.5</td>\n",
       "      <td>17.4</td>\n",
       "      <td>186.0</td>\n",
       "      <td>3800.0</td>\n",
       "      <td>Adelie</td>\n",
       "    </tr>\n",
       "    <tr>\n",
       "      <th>2</th>\n",
       "      <td>40.3</td>\n",
       "      <td>18.0</td>\n",
       "      <td>195.0</td>\n",
       "      <td>3250.0</td>\n",
       "      <td>Adelie</td>\n",
       "    </tr>\n",
       "    <tr>\n",
       "      <th>4</th>\n",
       "      <td>36.7</td>\n",
       "      <td>19.3</td>\n",
       "      <td>193.0</td>\n",
       "      <td>3450.0</td>\n",
       "      <td>Adelie</td>\n",
       "    </tr>\n",
       "    <tr>\n",
       "      <th>5</th>\n",
       "      <td>39.3</td>\n",
       "      <td>20.6</td>\n",
       "      <td>190.0</td>\n",
       "      <td>3650.0</td>\n",
       "      <td>Adelie</td>\n",
       "    </tr>\n",
       "  </tbody>\n",
       "</table>\n",
       "</div>"
      ],
      "text/plain": [
       "   bill_length_mm  bill_depth_mm  flipper_length_mm  body_mass_g species\n",
       "0            39.1           18.7              181.0       3750.0  Adelie\n",
       "1            39.5           17.4              186.0       3800.0  Adelie\n",
       "2            40.3           18.0              195.0       3250.0  Adelie\n",
       "4            36.7           19.3              193.0       3450.0  Adelie\n",
       "5            39.3           20.6              190.0       3650.0  Adelie"
      ]
     },
     "execution_count": 1,
     "metadata": {},
     "output_type": "execute_result"
    }
   ],
   "source": [
    "%load_ext autoreload\n",
    "%autoreload 2\n",
    "\n",
    "import pandas as pd\n",
    "import numpy as np\n",
    "import plotly.express as px\n",
    "\n",
    "# Read in data and drop rows with missing values.\n",
    "DATASET_URL = \"https://raw.githubusercontent.com/allisonhorst/palmerpenguins/main/inst/extdata/penguins.csv\"\n",
    "df = pd.read_csv(DATASET_URL)\n",
    "df = df.dropna()\n",
    "\n",
    "# Select columns that we want to use.\n",
    "df = df[[\"bill_length_mm\", \"bill_depth_mm\", \"flipper_length_mm\", \"body_mass_g\", \"species\"]]\n",
    "\n",
    "# Drop rows with species \"Gentoo\" to make the dataset binary (Adelie vs Chinstrap).\n",
    "df = df.query(\"species != 'Gentoo'\")\n",
    "\n",
    "# Display the first few rows of the dataset.\n",
    "df.head()"
   ]
  },
  {
   "cell_type": "markdown",
   "metadata": {},
   "source": [
    "## Create `X` and `y`\n",
    "\n",
    "Recall that in supervised learning, we have a dataset consisting of both input features and output labels. The goal is to learn a model that can predict the output labels (y) from the input features (X)."
   ]
  },
  {
   "cell_type": "code",
   "execution_count": 2,
   "metadata": {},
   "outputs": [],
   "source": [
    "# Create a feature matrix.\n",
    "feature_df = df.drop(columns=[\"species\"]).values\n",
    "\n",
    "# Create a label vector.\n",
    "species_labels = df[\"species\"].values"
   ]
  },
  {
   "cell_type": "markdown",
   "metadata": {},
   "source": [
    "## Binarize the Target\n",
    "\n",
    "We will begin by binarizing the target variable. The targets include a \"Chinstrap\" and \"Adelie\" class. We will create a new target variable that is 1 if the penguin is a \"Chinstrap\" and 0 if the penguin is an \"Adelie\". Please write a function `binarize` in machine_learning.py that takes in a list of species and returns a list of 1s and 0s."
   ]
  },
  {
   "cell_type": "code",
   "execution_count": 3,
   "metadata": {},
   "outputs": [],
   "source": [
    "from machine_learning import binarize\n",
    "\n",
    "# Binarize the labels.\n",
    "binarized_labels = binarize(species_labels)"
   ]
  },
  {
   "cell_type": "markdown",
   "metadata": {},
   "source": [
    "## Split the Data\n",
    "\n",
    "We will begin by loading the Palmer Penguins dataset and splitting it into a training set and a testing set. We will not use a validation set in this homework assignment, because we don't need to tune any hyperparameters. We will use the training set to train our models and the testing set to evaluate our models.\n",
    "\n",
    "Please write a function `split_data` using the instructions in machine_learning.py."
   ]
  },
  {
   "cell_type": "code",
   "execution_count": 4,
   "metadata": {},
   "outputs": [],
   "source": [
    "from machine_learning import split_data\n",
    "\n",
    "x_train, x_test, y_train, y_test = split_data(feature_df, binarized_labels)"
   ]
  },
  {
   "cell_type": "code",
   "execution_count": 5,
   "metadata": {},
   "outputs": [
    {
     "name": "stdout",
     "output_type": "stream",
     "text": [
      "(171, 4)\n",
      "(43, 4)\n",
      "(171,)\n",
      "(43,)\n"
     ]
    }
   ],
   "source": [
    "print(x_train.shape)\n",
    "print(x_test.shape)\n",
    "print(y_train.shape)\n",
    "print(y_test.shape)"
   ]
  },
  {
   "cell_type": "markdown",
   "metadata": {},
   "source": [
    "## Standardize x_train and x_test.\n",
    "\n",
    "Please implement standard scaling to standardize the feature dataframe. Recall that standard scaling is defined as:\n",
    "\n",
    "$$ x_{\\text{standardized}} = \\frac{x - \\mu}{\\sigma} $$\n",
    "\n",
    "where $\\mu$ is the mean of the feature and $\\sigma$ is the standard deviation of the feature. Please write a function `standardize_training_data` that takes in a training set and a testing set and returns the standardized training set and testing set.\n"
   ]
  },
  {
   "cell_type": "code",
   "execution_count": 6,
   "metadata": {},
   "outputs": [],
   "source": [
    "from machine_learning import standardize\n",
    "\n",
    "x_train, x_test = standardize(x_train, x_test)"
   ]
  },
  {
   "cell_type": "code",
   "execution_count": 7,
   "metadata": {},
   "outputs": [
    {
     "data": {
      "text/plain": [
       "array([[-0.08792305,  1.66665102,  0.32084576, -0.35297599],\n",
       "       [ 1.6324818 ,  1.0643016 ,  1.30057122,  0.80777197],\n",
       "       [ 0.17387768, -0.05434732,  0.60076732,  0.86580936],\n",
       "       [-0.79852506,  0.11775252,  1.02064966,  1.79440773]])"
      ]
     },
     "execution_count": 7,
     "metadata": {},
     "output_type": "execute_result"
    }
   ],
   "source": [
    "x_train[0:4]"
   ]
  },
  {
   "cell_type": "code",
   "execution_count": 8,
   "metadata": {},
   "outputs": [
    {
     "data": {
      "text/plain": [
       "array([[-0.83592516,  1.83875085,  1.02064966,  0.16936059],\n",
       "       [-0.7424249 , -0.05434732, -2.47836983, -0.70120037],\n",
       "       [-1.4530269 , -1.08694632, -0.93880125, -0.70120037],\n",
       "       [ 0.21127779, -0.65669673,  0.60076732,  2.3167443 ],\n",
       "       [-1.07902585, -1.08694632, -0.65887969, -0.0047516 ]])"
      ]
     },
     "execution_count": 8,
     "metadata": {},
     "output_type": "execute_result"
    }
   ],
   "source": [
    "x_test[5:10]"
   ]
  },
  {
   "cell_type": "markdown",
   "metadata": {},
   "source": [
    "## KNN\n",
    "\n",
    "Now that we have a standardized `X` and binarized `y`, let's implement our first model. We will use the K-Nearest Neighbors algorithm to predict the species of a penguin. We will use the training set to train the model and the testing set to evaluate the model.\n",
    "\n",
    "You will be asked to implement the following common distance metrics:\n",
    "\n",
    "1. `euclidean_distance`\n",
    "2. `cosine_distance`\n",
    "\n",
    "And implement a brute-force K-Nearest Neighbors algorithm:\n",
    "\n",
    "3. `knn`\n",
    "\n",
    "Please see more details in machine_learning.py. You may only use the numpy library. You **may not** use the scikit-learn library."
   ]
  },
  {
   "cell_type": "code",
   "execution_count": 9,
   "metadata": {},
   "outputs": [
    {
     "name": "stdout",
     "output_type": "stream",
     "text": [
      "Euclidean Distance Classification Report\n",
      "              precision    recall  f1-score   support\n",
      "\n",
      "      Adelie       0.93      1.00      0.96        25\n",
      "   Chinstrap       1.00      0.89      0.94        18\n",
      "\n",
      "    accuracy                           0.95        43\n",
      "   macro avg       0.96      0.94      0.95        43\n",
      "weighted avg       0.96      0.95      0.95        43\n",
      "\n",
      "Cosine Distance Classification Report\n",
      "              precision    recall  f1-score   support\n",
      "\n",
      "      Adelie       0.89      1.00      0.94        25\n",
      "   Chinstrap       1.00      0.83      0.91        18\n",
      "\n",
      "    accuracy                           0.93        43\n",
      "   macro avg       0.95      0.92      0.93        43\n",
      "weighted avg       0.94      0.93      0.93        43\n",
      "\n"
     ]
    }
   ],
   "source": [
    "from sklearn.metrics import classification_report\n",
    "from machine_learning import knn, euclidean_distance, cosine_distance\n",
    "\n",
    "euclidean_y_pred = [knn(x = x_train, y = y_train, sample = x_test_sample, distance_method = euclidean_distance, k = 3) for x_test_sample in x_test]\n",
    "cosine_y_pred = [knn(x = x_train, y = y_train, sample = x_test_sample, distance_method = cosine_distance, k = 2) for x_test_sample in x_test]\n",
    "\n",
    "print(\"Euclidean Distance Classification Report\")\n",
    "print(classification_report(y_test, euclidean_y_pred, target_names=[\"Adelie\", \"Chinstrap\"]))\n",
    "\n",
    "print(\"Cosine Distance Classification Report\")\n",
    "print(classification_report(y_test, cosine_y_pred, target_names=[\"Adelie\", \"Chinstrap\"]))\n"
   ]
  },
  {
   "cell_type": "markdown",
   "metadata": {},
   "source": [
    "## Linear Regression\n",
    "\n",
    "Let's implement our second model. We will use linear regression to predict the body_mass_g of a given penguin.\n",
    "\n",
    "You will be asked to implement the following functions:\n",
    "\n",
    "1. `linear_regression`\n",
    "\n",
    "Recall the equation for the normal equation:\n",
    "\n",
    "$$ \\theta = (X^T X)^{-1} X^T y $$\n",
    "\n",
    "2. `linear_regression_predict`\n",
    "\n",
    "Recall the equation for linear regression:\n",
    "\n",
    "$$ \\hat{y} = X \\theta $$\n",
    "\n",
    "3. `mean_squared_error`\n",
    "\n",
    "Recall the equation for the mean squared error:\n",
    "$$ \\text{MSE} = \\frac{1}{n} \\sum_{i=1}^{n} (y_i - \\hat{y}_i)^2 $$\n",
    "\n",
    "Please see more details in machine_learning.py. You may only use the numpy library. You **may not** use the scikit-learn library.\n",
    "\n",
    "### First Pass\n",
    "\n",
    "In our first pass of the model, let's quantify our performance when using only the flipper_length_mm feature."
   ]
  },
  {
   "cell_type": "code",
   "execution_count": 10,
   "metadata": {},
   "outputs": [
    {
     "name": "stdout",
     "output_type": "stream",
     "text": [
      "Mean Squared Error (only using flipper length): 0.87\n"
     ]
    }
   ],
   "source": [
    "from machine_learning import linear_regression, linear_regression_predict, mean_squared_error\n",
    "\n",
    "flipper_length_train = x_train[:, -2] # flipper_length_mm\n",
    "body_mass_train = x_train[:, -1] # body_mass_g\n",
    "\n",
    "flipper_length_test = x_test[:, -2] # flipper_length_mm\n",
    "body_mass_test = x_test[:, -1] # body_mass_g\n",
    "\n",
    "linear_regression_weights = linear_regression(flipper_length_train.reshape(-1, 1), body_mass_train)\n",
    "body_mass_pred = linear_regression_predict(flipper_length_test.reshape(-1, 1), linear_regression_weights)\n",
    "\n",
    "mse = mean_squared_error(body_mass_test, body_mass_pred)\n",
    "\n",
    "print(\"Mean Squared Error (only using flipper length):\", round(mse, 2))"
   ]
  },
  {
   "cell_type": "markdown",
   "metadata": {},
   "source": [
    "### Visualization of First Pass\n",
    "\n",
    "It is always a good idea to visualize our results. You don't have to do anything here. You can see that our model is doing a fine job of finding the best possible slope when only using one feature, but there is a lot of unnaccounted-for variance! In the second pass, we'll use all the features to predict the body mass of a penguin."
   ]
  },
  {
   "cell_type": "code",
   "execution_count": 11,
   "metadata": {},
   "outputs": [
    {
     "data": {
      "application/vnd.plotly.v1+json": {
       "config": {
        "plotlyServerURL": "https://plot.ly"
       },
       "data": [
        {
         "hovertemplate": "x=%{x}<br>y=%{y}<extra></extra>",
         "legendgroup": "",
         "marker": {
          "color": "#636efa",
          "symbol": "circle"
         },
         "mode": "markers",
         "name": "",
         "orientation": "v",
         "showlegend": false,
         "type": "scatter",
         "x": [
          -0.3529759854306477,
          0.8077719666585993,
          0.8658093642630617,
          1.7944077259344593,
          2.374781701979083,
          -0.6431629734529595,
          -1.5137239375198948,
          1.6202955331210722,
          0.57562237624075,
          -0.004751599803873586,
          0.6916971714496747,
          -0.8753125638708089,
          0.2273979906139758,
          1.8524451235389217,
          -1.4556865399154324,
          -0.5851255758484971,
          1.0399215570764488,
          -0.17886379261726065,
          -0.5270881782440348,
          -0.23690119022172298,
          0.8077719666585993,
          0.2273979906139758,
          0.053285797800588765,
          0.45954758103182525,
          0.45954758103182525,
          0.45954758103182525,
          0.57562237624075,
          1.8524451235389217,
          -1.2815743471020453,
          0.45954758103182525,
          -0.5851255758484971,
          0.57562237624075,
          0.11132319540505112,
          0.6916971714496747,
          0.2273979906139758,
          -0.9913873590797335,
          -0.7012003710574218,
          0.2273979906139758,
          -0.6431629734529595,
          0.053285797800588765,
          -0.8172751662663466,
          -0.4690507806395724,
          0.45954758103182525,
          -0.5851255758484971,
          -0.8172751662663466,
          -0.8753125638708089,
          -1.0494247566841959,
          1.1559963522853736,
          -0.5851255758484971,
          0.8077719666585993,
          -1.5137239375198948,
          -0.004751599803873586,
          1.3881459427032228,
          0.11132319540505112,
          0.45954758103182525,
          0.2273979906139758,
          0.923846761867524,
          -1.1654995518931206,
          1.272071147494298,
          -0.8753125638708089,
          -0.9333499614752713,
          -0.5851255758484971,
          -0.1208263950127983,
          -0.23690119022172298,
          2.258706906770158,
          -0.9333499614752713,
          -0.7012003710574218,
          -0.41101338303511004,
          -0.4690507806395724,
          -0.1208263950127983,
          -0.3529759854306477,
          -0.4690507806395724,
          1.0399215570764488,
          -1.5137239375198948,
          0.11132319540505112,
          -1.2815743471020453,
          -0.004751599803873586,
          -1.5137239375198948,
          -0.4690507806395724,
          -0.004751599803873586,
          -1.1654995518931206,
          0.11132319540505112,
          -0.7012003710574218,
          -0.9333499614752713,
          -0.004751599803873586,
          1.6202955331210722,
          -0.23690119022172298,
          -0.4690507806395724,
          -0.1208263950127983,
          2.084594713956771,
          0.6916971714496747,
          -1.2815743471020453,
          0.57562237624075,
          0.2273979906139758,
          -0.4690507806395724,
          -1.6297987327288195,
          0.923846761867524,
          0.8077719666585993,
          0.053285797800588765,
          -0.004751599803873586,
          1.0399215570764488,
          0.45954758103182525,
          -0.5851255758484971,
          2.084594713956771,
          0.11132319540505112,
          1.272071147494298,
          1.3881459427032228,
          -1.861948323146669,
          -0.23690119022172298,
          -0.004751599803873586,
          0.2273979906139758,
          2.200669509165696,
          -1.1654995518931206,
          -1.861948323146669,
          1.5042207379121475,
          -0.23690119022172298,
          -0.4690507806395724,
          -1.0494247566841959,
          1.3881459427032228,
          0.2273979906139758,
          -0.8753125638708089,
          0.57562237624075,
          2.54889389479247,
          0.6336597738452123,
          0.2273979906139758,
          -0.23690119022172298,
          -0.3529759854306477,
          -0.1208263950127983,
          -0.7012003710574218,
          1.3881459427032228,
          -0.8753125638708089,
          1.736370328329997,
          -1.2815743471020453,
          1.3301085450987604,
          -0.3529759854306477,
          -0.004751599803873586,
          -0.7012003710574218,
          0.2273979906139758,
          -1.9780231183555936,
          -1.861948323146669,
          -0.9333499614752713,
          -0.3529759854306477,
          0.8077719666585993,
          -0.29493858782618537,
          0.57562237624075,
          -0.1208263950127983,
          0.45954758103182525,
          -1.39764914231097,
          0.16936059300951348,
          -0.5851255758484971,
          0.2273979906139758,
          -1.9780231183555936,
          -0.41101338303511004,
          -1.223536949497583,
          0.57562237624075,
          2.4908564971880076,
          -0.3529759854306477,
          -0.5851255758484971,
          1.736370328329997,
          -1.0494247566841959,
          -1.1654995518931206,
          1.3881459427032228,
          0.16936059300951348,
          0.2273979906139758,
          -0.3529759854306477,
          0.45954758103182525,
          -1.1654995518931206,
          1.1559963522853736,
          -1.861948323146669,
          0.923846761867524,
          -1.223536949497583
         ],
         "xaxis": "x",
         "y": [
          0.32084576359076133,
          1.3005712202696897,
          0.6007673226418837,
          1.0206496612185674,
          1.5804927793208121,
          -0.6588796930881671,
          -0.5189189135626058,
          0.6007673226418837,
          -1.6386051497670953,
          -0.23899735451148343,
          1.0206496612185674,
          0.4608065431163225,
          -1.6386051497670953,
          1.8604143383719345,
          -1.2187228111904118,
          -0.23899735451148343,
          0.7407281021674449,
          -1.4986443702415342,
          -0.6588796930881671,
          -0.9388012521392894,
          1.5804927793208121,
          1.1606104407441284,
          -0.23899735451148343,
          -0.23899735451148343,
          -0.09903657498592225,
          1.0206496612185674,
          -0.23899735451148343,
          0.7407281021674449,
          -1.3586835907159729,
          -1.0787620316648505,
          -0.23899735451148343,
          -0.37895813403704465,
          1.0206496612185674,
          1.3005712202696897,
          0.18088498406520012,
          -0.09903657498592225,
          1.1606104407441284,
          -0.6588796930881671,
          -1.3586835907159729,
          0.7407281021674449,
          -0.09903657498592225,
          0.18088498406520012,
          -1.9185267088182179,
          0.4608065431163225,
          -0.37895813403704465,
          -0.23899735451148343,
          0.4608065431163225,
          0.18088498406520012,
          -0.23899735451148343,
          1.3005712202696897,
          -0.7988404726137283,
          -0.23899735451148343,
          1.8604143383719345,
          0.18088498406520012,
          0.4608065431163225,
          1.4405319997952508,
          -0.5189189135626058,
          -0.6588796930881671,
          -0.23899735451148343,
          -0.37895813403704465,
          -1.4986443702415342,
          0.4608065431163225,
          0.4608065431163225,
          0.4608065431163225,
          0.4608065431163225,
          -0.5189189135626058,
          -0.9388012521392894,
          0.32084576359076133,
          0.040924204539638936,
          -0.23899735451148343,
          -1.6386051497670953,
          0.8806888816930061,
          0.4608065431163225,
          -0.09903657498592225,
          0.7407281021674449,
          -0.6588796930881671,
          -0.9388012521392894,
          -0.23899735451148343,
          0.7407281021674449,
          0.8806888816930061,
          -0.6588796930881671,
          -1.4986443702415342,
          -0.23899735451148343,
          0.7407281021674449,
          -0.09903657498592225,
          0.4608065431163225,
          -0.23899735451148343,
          -0.7988404726137283,
          -0.9388012521392894,
          -0.23899735451148343,
          2.5602182359997405,
          -2.7582913859715847,
          2.5602182359997405,
          0.18088498406520012,
          -0.37895813403704465,
          -0.9388012521392894,
          2.5602182359997405,
          1.1606104407441284,
          0.040924204539638936,
          -1.4986443702415342,
          -0.09903657498592225,
          0.6007673226418837,
          0.18088498406520012,
          -0.09903657498592225,
          0.32084576359076133,
          0.18088498406520012,
          2.8401397950508627,
          -0.6588796930881671,
          0.18088498406520012,
          -0.09903657498592225,
          -0.23899735451148343,
          -1.0787620316648505,
          -1.3586835907159729,
          -0.5189189135626058,
          0.6007673226418837,
          -0.23899735451148343,
          0.6007673226418837,
          -0.6588796930881671,
          2.280296676948618,
          -0.09903657498592225,
          -1.0787620316648505,
          0.040924204539638936,
          2.5602182359997405,
          1.1606104407441284,
          -0.37895813403704465,
          -1.4986443702415342,
          -0.6588796930881671,
          -0.37895813403704465,
          0.18088498406520012,
          1.3005712202696897,
          1.0206496612185674,
          0.8806888816930061,
          -0.9388012521392894,
          0.7407281021674449,
          -0.7988404726137283,
          -0.09903657498592225,
          1.4405319997952508,
          0.18088498406520012,
          -1.0787620316648505,
          -0.6588796930881671,
          -0.6588796930881671,
          -1.2187228111904118,
          0.040924204539638936,
          -0.23899735451148343,
          2.000375117897496,
          -0.6588796930881671,
          -0.23899735451148343,
          -0.7988404726137283,
          0.32084576359076133,
          0.7407281021674449,
          -0.7988404726137283,
          -1.4986443702415342,
          -0.5189189135626058,
          -0.09903657498592225,
          0.8806888816930061,
          0.7407281021674449,
          -1.0787620316648505,
          -2.19844826786934,
          -0.7988404726137283,
          -0.09903657498592225,
          -0.37895813403704465,
          0.4608065431163225,
          0.8806888816930061,
          -0.6588796930881671,
          0.6007673226418837,
          -1.0787620316648505,
          0.18088498406520012,
          0.32084576359076133,
          -1.9185267088182179,
          1.5804927793208121,
          -1.4986443702415342
         ],
         "yaxis": "y"
        },
        {
         "line": {
          "color": "red",
          "dash": "dash"
         },
         "mode": "lines",
         "name": "Regression Line",
         "type": "scatter",
         "x": [
          -2.7582913859715847,
          -2.701741576062267,
          -2.6451917661529496,
          -2.588641956243632,
          -2.532092146334314,
          -2.4755423364249967,
          -2.418992526515679,
          -2.362442716606361,
          -2.3058929066970437,
          -2.249343096787726,
          -2.192793286878408,
          -2.1362434769690903,
          -2.079693667059773,
          -2.023143857150455,
          -1.9665940472411376,
          -1.91004423733182,
          -1.8534944274225023,
          -1.7969446175131847,
          -1.7403948076038671,
          -1.6838449976945493,
          -1.6272951877852317,
          -1.5707453778759142,
          -1.5141955679665964,
          -1.4576457580572788,
          -1.4010959481479612,
          -1.3445461382386434,
          -1.2879963283293259,
          -1.2314465184200083,
          -1.1748967085106905,
          -1.118346898601373,
          -1.0617970886920554,
          -1.0052472787827376,
          -0.94869746887342,
          -0.8921476589641024,
          -0.8355978490547846,
          -0.779048039145467,
          -0.7224982292361495,
          -0.6659484193268317,
          -0.6093986094175139,
          -0.5528487995081965,
          -0.49629898959887875,
          -0.43974917968956095,
          -0.3831993697802436,
          -0.3266495598709258,
          -0.270099749961608,
          -0.21354994005229067,
          -0.15700013014297287,
          -0.10045032023365508,
          -0.04390051032433773,
          0.012649299584980067,
          0.06919910949429786,
          0.1257489194036152,
          0.182298729312933,
          0.2388485392222508,
          0.29539834913156815,
          0.35194815904088594,
          0.40849796895020374,
          0.4650477788595211,
          0.5215975887688389,
          0.5781473986781567,
          0.634697208587474,
          0.6912470184967918,
          0.7477968284061096,
          0.804346638315427,
          0.8608964482247448,
          0.9174462581340626,
          0.9739960680433799,
          1.0305458779526977,
          1.0870956878620155,
          1.1436454977713328,
          1.2001953076806506,
          1.256745117589968,
          1.3132949274992858,
          1.3698447374086036,
          1.4263945473179214,
          1.4829443572272392,
          1.539494167136557,
          1.5960439770458739,
          1.6525937869551917,
          1.7091435968645095,
          1.7656934067738272,
          1.822243216683145,
          1.8787930265924628,
          1.9353428365017797,
          1.9918926464110975,
          2.0484424563204153,
          2.104992266229733,
          2.161542076139051,
          2.2180918860483687,
          2.2746416959576856,
          2.3311915058670034,
          2.387741315776321,
          2.444291125685639,
          2.500840935594957,
          2.5573907455042746,
          2.6139405554135915,
          2.6704903653229093,
          2.727040175232227,
          2.783589985141545,
          2.8401397950508627
         ],
         "y": [
          -1.3718571107474211,
          -1.3437316345087364,
          -1.3156061582700518,
          -1.2874806820313671,
          -1.2593552057926825,
          -1.231229729553998,
          -1.2031042533153131,
          -1.1749787770766285,
          -1.146853300837944,
          -1.1187278245992591,
          -1.0906023483605745,
          -1.0624768721218898,
          -1.0343513958832051,
          -1.0062259196445205,
          -0.9781004434058359,
          -0.9499749671671514,
          -0.9218494909284666,
          -0.8937240146897819,
          -0.8655985384510974,
          -0.8374730622124126,
          -0.809347585973728,
          -0.7812221097350434,
          -0.7530966334963586,
          -0.724971157257674,
          -0.6968456810189894,
          -0.6687202047803046,
          -0.64059472854162,
          -0.6124692523029354,
          -0.5843437760642506,
          -0.556218299825566,
          -0.5280928235868814,
          -0.4999673473481966,
          -0.471841871109512,
          -0.4437163948708273,
          -0.4155909186321426,
          -0.387465442393458,
          -0.35933996615477337,
          -0.3312144899160886,
          -0.3030890136774039,
          -0.2749635374387194,
          -0.24683806120003465,
          -0.21871258496134993,
          -0.1905871087226654,
          -0.16246163248398066,
          -0.13433615624529593,
          -0.10621068000661142,
          -0.07808520376792669,
          -0.049959727529241944,
          -0.02183425129055743,
          0.006291224948127308,
          0.03441670118681204,
          0.06254217742549656,
          0.0906676536641813,
          0.11879312990286603,
          0.14691860614155056,
          0.17504408238023528,
          0.20316955861892003,
          0.23129503485760453,
          0.2594205110962893,
          0.28754598733497405,
          0.31567146357365855,
          0.34379693981234327,
          0.371922416051028,
          0.40004789228971255,
          0.42817336852839727,
          0.456298844767082,
          0.48442432100576654,
          0.5125497972444512,
          0.5406752734831359,
          0.5688007497218205,
          0.5969262259605052,
          0.6250517021991897,
          0.6531771784378745,
          0.6813026546765591,
          0.7094281309152439,
          0.7375536071539287,
          0.7656790833926134,
          0.7938045596312977,
          0.8219300358699824,
          0.8500555121086671,
          0.8781809883473519,
          0.9063064645860366,
          0.9344319408247214,
          0.9625574170634057,
          0.9906828933020904,
          1.0188083695407752,
          1.04693384577946,
          1.0750593220181448,
          1.1031847982568295,
          1.1313102744955137,
          1.1594357507341986,
          1.1875612269728832,
          1.215686703211568,
          1.2438121794502526,
          1.2719376556889375,
          1.3000631319276217,
          1.3281886081663064,
          1.3563140844049912,
          1.384439560643676,
          1.4125650368823606
         ]
        },
        {
         "marker": {
          "color": "grey",
          "size": 10
         },
         "mode": "markers",
         "name": "Test Samples",
         "type": "scatter",
         "x": [
          0.8806888816930061,
          1.3005712202696897,
          0.6007673226418837,
          1.3005712202696897,
          1.4405319997952508,
          1.0206496612185674,
          -2.4783698269204626,
          -0.9388012521392894,
          0.6007673226418837,
          -0.6588796930881671,
          0.4608065431163225,
          0.4608065431163225,
          -1.0787620316648505,
          0.4608065431163225,
          -0.6588796930881671,
          -0.09903657498592225,
          0.6007673226418837,
          -0.9388012521392894,
          -0.5189189135626058,
          0.040924204539638936,
          0.18088498406520012,
          2.1403358974230566,
          0.18088498406520012,
          0.8806888816930061,
          0.18088498406520012,
          0.8806888816930061,
          0.6007673226418837,
          -1.9185267088182179,
          1.8604143383719345,
          -1.6386051497670953,
          0.4608065431163225,
          0.040924204539638936,
          -0.9388012521392894,
          0.040924204539638936,
          0.4608065431163225,
          1.5804927793208121,
          0.7407281021674449,
          -1.9185267088182179,
          -0.23899735451148343,
          1.4405319997952508,
          -0.23899735451148343,
          -0.6588796930881671,
          0.4608065431163225
         ],
         "y": [
          1.6202955331210722,
          0.57562237624075,
          -0.3529759854306477,
          1.736370328329997,
          0.4015101834273629,
          0.16936059300951348,
          -0.7012003710574218,
          -0.7012003710574218,
          2.3167443043746205,
          -0.004751599803873586,
          0.34347278582290053,
          -0.9333499614752713,
          -0.5270881782440348,
          0.6916971714496747,
          -0.8172751662663466,
          -0.7012003710574218,
          -0.06278899740833593,
          0.57562237624075,
          1.3881459427032228,
          -2.326247503982368,
          -1.8039109255422066,
          0.6916971714496747,
          0.16936059300951348,
          -0.06278899740833593,
          -0.1208263950127983,
          0.28543538821843817,
          1.0399215570764488,
          -1.0494247566841959,
          1.9685199187478464,
          -0.23690119022172298,
          1.6202955331210722,
          -1.6297987327288195,
          -0.004751599803873586,
          0.923846761867524,
          1.272071147494298,
          0.8077719666585993,
          1.0399215570764488,
          -1.0494247566841959,
          1.272071147494298,
          -0.3529759854306477,
          0.45954758103182525,
          -0.8172751662663466,
          -0.8172751662663466
         ]
        },
        {
         "marker": {
          "color": "red",
          "size": 10
         },
         "mode": "markers",
         "name": "Predicted Test Samples",
         "type": "scatter",
         "x": [
          0.8806888816930061,
          1.3005712202696897,
          0.6007673226418837,
          1.3005712202696897,
          1.4405319997952508,
          1.0206496612185674,
          -2.4783698269204626,
          -0.9388012521392894,
          0.6007673226418837,
          -0.6588796930881671,
          0.4608065431163225,
          0.4608065431163225,
          -1.0787620316648505,
          0.4608065431163225,
          -0.6588796930881671,
          -0.09903657498592225,
          0.6007673226418837,
          -0.9388012521392894,
          -0.5189189135626058,
          0.040924204539638936,
          0.18088498406520012,
          2.1403358974230566,
          0.18088498406520012,
          0.8806888816930061,
          0.18088498406520012,
          0.8806888816930061,
          0.6007673226418837,
          -1.9185267088182179,
          1.8604143383719345,
          -1.6386051497670953,
          0.4608065431163225,
          0.040924204539638936,
          -0.9388012521392894,
          0.040924204539638936,
          0.4608065431163225,
          1.5804927793208121,
          0.7407281021674449,
          -1.9185267088182179,
          -0.23899735451148343,
          1.4405319997952508,
          -0.23899735451148343,
          -0.6588796930881671,
          0.4608065431163225
         ],
         "y": [
          0.43801728521193695,
          0.6468489462841706,
          0.2987961778304479,
          0.6468489462841706,
          0.7164594999749151,
          0.5076278389026815,
          -1.2326360033659323,
          -0.4669199127677422,
          0.2987961778304479,
          -0.32769880538625307,
          0.2291856241397033,
          0.2291856241397033,
          -0.5365304664584867,
          0.2291856241397033,
          -0.32769880538625307,
          -0.049256590623274886,
          0.2987961778304479,
          -0.4669199127677422,
          -0.2580882516955085,
          0.020353963067469664,
          0.08996451675821421,
          1.0645122684286379,
          0.08996451675821421,
          0.43801728521193695,
          0.08996451675821421,
          0.43801728521193695,
          0.2987961778304479,
          -0.9541937886029541,
          0.9252911610471488,
          -0.8149726812214649,
          0.2291856241397033,
          0.020353963067469664,
          -0.4669199127677422,
          0.020353963067469664,
          0.2291856241397033,
          0.7860700536656597,
          0.3684067315211924,
          -0.9541937886029541,
          -0.11886714431401943,
          0.7164594999749151,
          -0.11886714431401943,
          -0.32769880538625307,
          0.2291856241397033
         ]
        }
       ],
       "layout": {
        "legend": {
         "tracegroupgap": 0
        },
        "template": {
         "data": {
          "bar": [
           {
            "error_x": {
             "color": "#2a3f5f"
            },
            "error_y": {
             "color": "#2a3f5f"
            },
            "marker": {
             "line": {
              "color": "white",
              "width": 0.5
             },
             "pattern": {
              "fillmode": "overlay",
              "size": 10,
              "solidity": 0.2
             }
            },
            "type": "bar"
           }
          ],
          "barpolar": [
           {
            "marker": {
             "line": {
              "color": "white",
              "width": 0.5
             },
             "pattern": {
              "fillmode": "overlay",
              "size": 10,
              "solidity": 0.2
             }
            },
            "type": "barpolar"
           }
          ],
          "carpet": [
           {
            "aaxis": {
             "endlinecolor": "#2a3f5f",
             "gridcolor": "#C8D4E3",
             "linecolor": "#C8D4E3",
             "minorgridcolor": "#C8D4E3",
             "startlinecolor": "#2a3f5f"
            },
            "baxis": {
             "endlinecolor": "#2a3f5f",
             "gridcolor": "#C8D4E3",
             "linecolor": "#C8D4E3",
             "minorgridcolor": "#C8D4E3",
             "startlinecolor": "#2a3f5f"
            },
            "type": "carpet"
           }
          ],
          "choropleth": [
           {
            "colorbar": {
             "outlinewidth": 0,
             "ticks": ""
            },
            "type": "choropleth"
           }
          ],
          "contour": [
           {
            "colorbar": {
             "outlinewidth": 0,
             "ticks": ""
            },
            "colorscale": [
             [
              0,
              "#0d0887"
             ],
             [
              0.1111111111111111,
              "#46039f"
             ],
             [
              0.2222222222222222,
              "#7201a8"
             ],
             [
              0.3333333333333333,
              "#9c179e"
             ],
             [
              0.4444444444444444,
              "#bd3786"
             ],
             [
              0.5555555555555556,
              "#d8576b"
             ],
             [
              0.6666666666666666,
              "#ed7953"
             ],
             [
              0.7777777777777778,
              "#fb9f3a"
             ],
             [
              0.8888888888888888,
              "#fdca26"
             ],
             [
              1,
              "#f0f921"
             ]
            ],
            "type": "contour"
           }
          ],
          "contourcarpet": [
           {
            "colorbar": {
             "outlinewidth": 0,
             "ticks": ""
            },
            "type": "contourcarpet"
           }
          ],
          "heatmap": [
           {
            "colorbar": {
             "outlinewidth": 0,
             "ticks": ""
            },
            "colorscale": [
             [
              0,
              "#0d0887"
             ],
             [
              0.1111111111111111,
              "#46039f"
             ],
             [
              0.2222222222222222,
              "#7201a8"
             ],
             [
              0.3333333333333333,
              "#9c179e"
             ],
             [
              0.4444444444444444,
              "#bd3786"
             ],
             [
              0.5555555555555556,
              "#d8576b"
             ],
             [
              0.6666666666666666,
              "#ed7953"
             ],
             [
              0.7777777777777778,
              "#fb9f3a"
             ],
             [
              0.8888888888888888,
              "#fdca26"
             ],
             [
              1,
              "#f0f921"
             ]
            ],
            "type": "heatmap"
           }
          ],
          "heatmapgl": [
           {
            "colorbar": {
             "outlinewidth": 0,
             "ticks": ""
            },
            "colorscale": [
             [
              0,
              "#0d0887"
             ],
             [
              0.1111111111111111,
              "#46039f"
             ],
             [
              0.2222222222222222,
              "#7201a8"
             ],
             [
              0.3333333333333333,
              "#9c179e"
             ],
             [
              0.4444444444444444,
              "#bd3786"
             ],
             [
              0.5555555555555556,
              "#d8576b"
             ],
             [
              0.6666666666666666,
              "#ed7953"
             ],
             [
              0.7777777777777778,
              "#fb9f3a"
             ],
             [
              0.8888888888888888,
              "#fdca26"
             ],
             [
              1,
              "#f0f921"
             ]
            ],
            "type": "heatmapgl"
           }
          ],
          "histogram": [
           {
            "marker": {
             "pattern": {
              "fillmode": "overlay",
              "size": 10,
              "solidity": 0.2
             }
            },
            "type": "histogram"
           }
          ],
          "histogram2d": [
           {
            "colorbar": {
             "outlinewidth": 0,
             "ticks": ""
            },
            "colorscale": [
             [
              0,
              "#0d0887"
             ],
             [
              0.1111111111111111,
              "#46039f"
             ],
             [
              0.2222222222222222,
              "#7201a8"
             ],
             [
              0.3333333333333333,
              "#9c179e"
             ],
             [
              0.4444444444444444,
              "#bd3786"
             ],
             [
              0.5555555555555556,
              "#d8576b"
             ],
             [
              0.6666666666666666,
              "#ed7953"
             ],
             [
              0.7777777777777778,
              "#fb9f3a"
             ],
             [
              0.8888888888888888,
              "#fdca26"
             ],
             [
              1,
              "#f0f921"
             ]
            ],
            "type": "histogram2d"
           }
          ],
          "histogram2dcontour": [
           {
            "colorbar": {
             "outlinewidth": 0,
             "ticks": ""
            },
            "colorscale": [
             [
              0,
              "#0d0887"
             ],
             [
              0.1111111111111111,
              "#46039f"
             ],
             [
              0.2222222222222222,
              "#7201a8"
             ],
             [
              0.3333333333333333,
              "#9c179e"
             ],
             [
              0.4444444444444444,
              "#bd3786"
             ],
             [
              0.5555555555555556,
              "#d8576b"
             ],
             [
              0.6666666666666666,
              "#ed7953"
             ],
             [
              0.7777777777777778,
              "#fb9f3a"
             ],
             [
              0.8888888888888888,
              "#fdca26"
             ],
             [
              1,
              "#f0f921"
             ]
            ],
            "type": "histogram2dcontour"
           }
          ],
          "mesh3d": [
           {
            "colorbar": {
             "outlinewidth": 0,
             "ticks": ""
            },
            "type": "mesh3d"
           }
          ],
          "parcoords": [
           {
            "line": {
             "colorbar": {
              "outlinewidth": 0,
              "ticks": ""
             }
            },
            "type": "parcoords"
           }
          ],
          "pie": [
           {
            "automargin": true,
            "type": "pie"
           }
          ],
          "scatter": [
           {
            "fillpattern": {
             "fillmode": "overlay",
             "size": 10,
             "solidity": 0.2
            },
            "type": "scatter"
           }
          ],
          "scatter3d": [
           {
            "line": {
             "colorbar": {
              "outlinewidth": 0,
              "ticks": ""
             }
            },
            "marker": {
             "colorbar": {
              "outlinewidth": 0,
              "ticks": ""
             }
            },
            "type": "scatter3d"
           }
          ],
          "scattercarpet": [
           {
            "marker": {
             "colorbar": {
              "outlinewidth": 0,
              "ticks": ""
             }
            },
            "type": "scattercarpet"
           }
          ],
          "scattergeo": [
           {
            "marker": {
             "colorbar": {
              "outlinewidth": 0,
              "ticks": ""
             }
            },
            "type": "scattergeo"
           }
          ],
          "scattergl": [
           {
            "marker": {
             "colorbar": {
              "outlinewidth": 0,
              "ticks": ""
             }
            },
            "type": "scattergl"
           }
          ],
          "scattermapbox": [
           {
            "marker": {
             "colorbar": {
              "outlinewidth": 0,
              "ticks": ""
             }
            },
            "type": "scattermapbox"
           }
          ],
          "scatterpolar": [
           {
            "marker": {
             "colorbar": {
              "outlinewidth": 0,
              "ticks": ""
             }
            },
            "type": "scatterpolar"
           }
          ],
          "scatterpolargl": [
           {
            "marker": {
             "colorbar": {
              "outlinewidth": 0,
              "ticks": ""
             }
            },
            "type": "scatterpolargl"
           }
          ],
          "scatterternary": [
           {
            "marker": {
             "colorbar": {
              "outlinewidth": 0,
              "ticks": ""
             }
            },
            "type": "scatterternary"
           }
          ],
          "surface": [
           {
            "colorbar": {
             "outlinewidth": 0,
             "ticks": ""
            },
            "colorscale": [
             [
              0,
              "#0d0887"
             ],
             [
              0.1111111111111111,
              "#46039f"
             ],
             [
              0.2222222222222222,
              "#7201a8"
             ],
             [
              0.3333333333333333,
              "#9c179e"
             ],
             [
              0.4444444444444444,
              "#bd3786"
             ],
             [
              0.5555555555555556,
              "#d8576b"
             ],
             [
              0.6666666666666666,
              "#ed7953"
             ],
             [
              0.7777777777777778,
              "#fb9f3a"
             ],
             [
              0.8888888888888888,
              "#fdca26"
             ],
             [
              1,
              "#f0f921"
             ]
            ],
            "type": "surface"
           }
          ],
          "table": [
           {
            "cells": {
             "fill": {
              "color": "#EBF0F8"
             },
             "line": {
              "color": "white"
             }
            },
            "header": {
             "fill": {
              "color": "#C8D4E3"
             },
             "line": {
              "color": "white"
             }
            },
            "type": "table"
           }
          ]
         },
         "layout": {
          "annotationdefaults": {
           "arrowcolor": "#2a3f5f",
           "arrowhead": 0,
           "arrowwidth": 1
          },
          "autotypenumbers": "strict",
          "coloraxis": {
           "colorbar": {
            "outlinewidth": 0,
            "ticks": ""
           }
          },
          "colorscale": {
           "diverging": [
            [
             0,
             "#8e0152"
            ],
            [
             0.1,
             "#c51b7d"
            ],
            [
             0.2,
             "#de77ae"
            ],
            [
             0.3,
             "#f1b6da"
            ],
            [
             0.4,
             "#fde0ef"
            ],
            [
             0.5,
             "#f7f7f7"
            ],
            [
             0.6,
             "#e6f5d0"
            ],
            [
             0.7,
             "#b8e186"
            ],
            [
             0.8,
             "#7fbc41"
            ],
            [
             0.9,
             "#4d9221"
            ],
            [
             1,
             "#276419"
            ]
           ],
           "sequential": [
            [
             0,
             "#0d0887"
            ],
            [
             0.1111111111111111,
             "#46039f"
            ],
            [
             0.2222222222222222,
             "#7201a8"
            ],
            [
             0.3333333333333333,
             "#9c179e"
            ],
            [
             0.4444444444444444,
             "#bd3786"
            ],
            [
             0.5555555555555556,
             "#d8576b"
            ],
            [
             0.6666666666666666,
             "#ed7953"
            ],
            [
             0.7777777777777778,
             "#fb9f3a"
            ],
            [
             0.8888888888888888,
             "#fdca26"
            ],
            [
             1,
             "#f0f921"
            ]
           ],
           "sequentialminus": [
            [
             0,
             "#0d0887"
            ],
            [
             0.1111111111111111,
             "#46039f"
            ],
            [
             0.2222222222222222,
             "#7201a8"
            ],
            [
             0.3333333333333333,
             "#9c179e"
            ],
            [
             0.4444444444444444,
             "#bd3786"
            ],
            [
             0.5555555555555556,
             "#d8576b"
            ],
            [
             0.6666666666666666,
             "#ed7953"
            ],
            [
             0.7777777777777778,
             "#fb9f3a"
            ],
            [
             0.8888888888888888,
             "#fdca26"
            ],
            [
             1,
             "#f0f921"
            ]
           ]
          },
          "colorway": [
           "#636efa",
           "#EF553B",
           "#00cc96",
           "#ab63fa",
           "#FFA15A",
           "#19d3f3",
           "#FF6692",
           "#B6E880",
           "#FF97FF",
           "#FECB52"
          ],
          "font": {
           "color": "#2a3f5f"
          },
          "geo": {
           "bgcolor": "white",
           "lakecolor": "white",
           "landcolor": "white",
           "showlakes": true,
           "showland": true,
           "subunitcolor": "#C8D4E3"
          },
          "hoverlabel": {
           "align": "left"
          },
          "hovermode": "closest",
          "mapbox": {
           "style": "light"
          },
          "paper_bgcolor": "white",
          "plot_bgcolor": "white",
          "polar": {
           "angularaxis": {
            "gridcolor": "#EBF0F8",
            "linecolor": "#EBF0F8",
            "ticks": ""
           },
           "bgcolor": "white",
           "radialaxis": {
            "gridcolor": "#EBF0F8",
            "linecolor": "#EBF0F8",
            "ticks": ""
           }
          },
          "scene": {
           "xaxis": {
            "backgroundcolor": "white",
            "gridcolor": "#DFE8F3",
            "gridwidth": 2,
            "linecolor": "#EBF0F8",
            "showbackground": true,
            "ticks": "",
            "zerolinecolor": "#EBF0F8"
           },
           "yaxis": {
            "backgroundcolor": "white",
            "gridcolor": "#DFE8F3",
            "gridwidth": 2,
            "linecolor": "#EBF0F8",
            "showbackground": true,
            "ticks": "",
            "zerolinecolor": "#EBF0F8"
           },
           "zaxis": {
            "backgroundcolor": "white",
            "gridcolor": "#DFE8F3",
            "gridwidth": 2,
            "linecolor": "#EBF0F8",
            "showbackground": true,
            "ticks": "",
            "zerolinecolor": "#EBF0F8"
           }
          },
          "shapedefaults": {
           "line": {
            "color": "#2a3f5f"
           }
          },
          "ternary": {
           "aaxis": {
            "gridcolor": "#DFE8F3",
            "linecolor": "#A2B1C6",
            "ticks": ""
           },
           "baxis": {
            "gridcolor": "#DFE8F3",
            "linecolor": "#A2B1C6",
            "ticks": ""
           },
           "bgcolor": "white",
           "caxis": {
            "gridcolor": "#DFE8F3",
            "linecolor": "#A2B1C6",
            "ticks": ""
           }
          },
          "title": {
           "x": 0.05
          },
          "xaxis": {
           "automargin": true,
           "gridcolor": "#EBF0F8",
           "linecolor": "#EBF0F8",
           "ticks": "",
           "title": {
            "standoff": 15
           },
           "zerolinecolor": "#EBF0F8",
           "zerolinewidth": 2
          },
          "yaxis": {
           "automargin": true,
           "gridcolor": "#EBF0F8",
           "linecolor": "#EBF0F8",
           "ticks": "",
           "title": {
            "standoff": 15
           },
           "zerolinecolor": "#EBF0F8",
           "zerolinewidth": 2
          }
         }
        },
        "title": {
         "text": "Regression"
        },
        "xaxis": {
         "anchor": "y",
         "domain": [
          0,
          1
         ],
         "title": {
          "text": "x"
         }
        },
        "yaxis": {
         "anchor": "x",
         "domain": [
          0,
          1
         ],
         "title": {
          "text": "y"
         }
        }
       }
      }
     },
     "metadata": {},
     "output_type": "display_data"
    }
   ],
   "source": [
    "# plot demonstrating the linear regression model.\n",
    "fig = px.scatter(x=body_mass_train, y=flipper_length_train, template = \"plotly_white\", title = \"Regression\")\n",
    "\n",
    "# plot the regression line.\n",
    "x_line = np.linspace(flipper_length_train.min(), flipper_length_train.max(), 100)\n",
    "y_line = linear_regression_weights[1] * x_line + linear_regression_weights[0]\n",
    "fig.add_scatter(x=x_line, y=y_line, mode=\"lines\", name=\"Regression Line\", line=dict(color=\"red\", dash=\"dash\"))\n",
    "\n",
    "# plot each test sample.\n",
    "fig.add_scatter(x=flipper_length_test, y=body_mass_test, mode=\"markers\", name=\"Test Samples\", marker=dict(size=10, color=\"grey\"))\n",
    "\n",
    "# plot each predicted test sample.\n",
    "fig.add_scatter(x=flipper_length_test, y=body_mass_pred, mode=\"markers\", name=\"Predicted Test Samples\", marker=dict(size=10, color=\"red\"))\n"
   ]
  },
  {
   "cell_type": "markdown",
   "metadata": {},
   "source": [
    "### Second Pass\n",
    "\n",
    "Our first pass wasn't so bad! But we can probably do better. Now, we'll include all of the remaining features (bill_length_mm, bill_depth_mm) in our model. You will see a lower mean squared error when using all the features. Pause for a moment and consider what that means!"
   ]
  },
  {
   "cell_type": "code",
   "execution_count": 12,
   "metadata": {},
   "outputs": [
    {
     "name": "stdout",
     "output_type": "stream",
     "text": [
      "Mean Squared Error (using flipper length, bill length, and bill depth): 0.61\n"
     ]
    }
   ],
   "source": [
    "from machine_learning import linear_regression, linear_regression_predict, mean_squared_error\n",
    "\n",
    "flipper_length_train = x_train[:, :-1] # bill_length_mm, bill_depth_mm, flipper_length_mm\n",
    "body_mass_train = x_train[:, -1] # body_mass_g\n",
    "\n",
    "flipper_length_test = x_test[:, :-1] # flipper_length_mm\n",
    "body_mass_test = x_test[:, -1] # body_mass_g\n",
    "\n",
    "linear_regression_weights = linear_regression(flipper_length_train, body_mass_train)\n",
    "body_mass_pred = linear_regression_predict(flipper_length_test, linear_regression_weights)\n",
    "mse = mean_squared_error(body_mass_test, body_mass_pred)\n",
    "\n",
    "print(\"Mean Squared Error (using flipper length, bill length, and bill depth):\", round(mse, 2))"
   ]
  },
  {
   "cell_type": "markdown",
   "metadata": {},
   "source": [
    "## Logistic Regression\n",
    "\n",
    "Let's implement our third model. We will use logistic regression to predict the species of a penguin. We will use the training set to train the model and the testing set to evaluate the model.\n",
    "\n",
    "You will be asked to implement the following functions:\n",
    "\n",
    "1. `logistic_regression_gradient_descent`\n",
    "\n",
    "Recall the equation for the gradient of the cost function:\n",
    "\n",
    "$$ \\nabla J(\\theta) = \\frac{1}{m} X^T (h_{\\theta}(X) - y) $$\n",
    "\n",
    "where $h_{\\theta}(X)$ is the sigmoid function:\n",
    "\n",
    "$$ h_{\\theta}(X) = \\sigma(X \\theta) $$\n",
    "\n",
    "2. `logistic_regression_predict`\n",
    "\n",
    "Recall the equation for logistic regression:\n",
    "\n",
    "$$ \\hat{y} = \\sigma(X \\theta) $$"
   ]
  },
  {
   "cell_type": "code",
   "execution_count": 20,
   "metadata": {},
   "outputs": [
    {
     "name": "stdout",
     "output_type": "stream",
     "text": [
      "              precision    recall  f1-score   support\n",
      "\n",
      "      Adelie       0.96      1.00      0.98        25\n",
      "   Chinstrap       1.00      0.94      0.97        18\n",
      "\n",
      "    accuracy                           0.98        43\n",
      "   macro avg       0.98      0.97      0.98        43\n",
      "weighted avg       0.98      0.98      0.98        43\n",
      "\n"
     ]
    }
   ],
   "source": [
    "from machine_learning import logistic_regression_gradient_descent, logistic_regression_predict\n",
    "\n",
    "weights = logistic_regression_gradient_descent(x_train, y_train)\n",
    "y_pred_probabiltiies = logistic_regression_predict(x_test, weights)\n",
    "y_pred = np.round(y_pred_probabiltiies)\n",
    "\n",
    "print(classification_report(y_test, y_pred, target_names=[\"Adelie\", \"Chinstrap\"]))"
   ]
  },
  {
   "cell_type": "code",
   "execution_count": 21,
   "metadata": {},
   "outputs": [
    {
     "data": {
      "application/vnd.plotly.v1+json": {
       "config": {
        "plotlyServerURL": "https://plot.ly"
       },
       "data": [
        {
         "hovertemplate": "x=%{x}<br>Probability=%{y}<extra></extra>",
         "legendgroup": "",
         "marker": {
          "color": "#636efa",
          "symbol": "circle"
         },
         "mode": "markers",
         "name": "",
         "orientation": "v",
         "showlegend": false,
         "type": "scatter",
         "x": [
          0,
          1,
          2,
          3,
          4,
          5,
          6,
          7,
          8,
          9,
          10,
          11,
          12,
          13,
          14,
          15,
          16,
          17,
          18,
          19,
          20,
          21,
          22,
          23,
          24,
          25,
          26,
          27,
          28,
          29,
          30,
          31,
          32,
          33,
          34,
          35,
          36,
          37,
          38,
          39,
          40,
          41,
          42
         ],
         "xaxis": "x",
         "y": [
          0.00016075863301995248,
          0.0021136986010727023,
          0.003257989526847745,
          0.003832436097008767,
          0.004264320147496703,
          0.004891069157569482,
          0.006826621111076677,
          0.007795253375115095,
          0.007836148345476524,
          0.00976115806771241,
          0.010281995479596708,
          0.01072755484594639,
          0.011127150402893748,
          0.01456604943102605,
          0.024367777109180522,
          0.050868396741174465,
          0.054791688263694995,
          0.0804768046350741,
          0.09791426841609523,
          0.11631395495135764,
          0.12385741806688054,
          0.12740968924380403,
          0.13716726167942972,
          0.14316815813943512,
          0.18695372555064116,
          0.4502296226454491,
          0.5372946213638466,
          0.7928063436885565,
          0.8824676104280245,
          0.8840284090207939,
          0.9027611888249014,
          0.9311238987462553,
          0.9625581361151809,
          0.9679505073055337,
          0.9744730483672798,
          0.9753313022641514,
          0.9827666240571042,
          0.9841330081978918,
          0.9848827353446326,
          0.9872936428620098,
          0.9885504947506553,
          0.9911969868734417,
          0.9988107553874975
         ],
         "yaxis": "y"
        },
        {
         "mode": "markers",
         "name": "True Labels",
         "type": "scatter",
         "x": [
          0,
          1,
          2,
          3,
          4,
          5,
          6,
          7,
          8,
          9,
          10,
          11,
          12,
          13,
          14,
          15,
          16,
          17,
          18,
          19,
          20,
          21,
          22,
          23,
          24,
          25,
          26,
          27,
          28,
          29,
          30,
          31,
          32,
          33,
          34,
          35,
          36,
          37,
          38,
          39,
          40,
          41,
          42
         ],
         "y": [
          0,
          0,
          0,
          0,
          0,
          0,
          0,
          0,
          0,
          0,
          0,
          0,
          0,
          0,
          0,
          0,
          0,
          0,
          0,
          0,
          0,
          0,
          0,
          0,
          0,
          1,
          1,
          1,
          1,
          1,
          1,
          1,
          1,
          1,
          1,
          1,
          1,
          1,
          1,
          1,
          1,
          1,
          1
         ]
        }
       ],
       "layout": {
        "legend": {
         "tracegroupgap": 0
        },
        "template": {
         "data": {
          "bar": [
           {
            "error_x": {
             "color": "#2a3f5f"
            },
            "error_y": {
             "color": "#2a3f5f"
            },
            "marker": {
             "line": {
              "color": "white",
              "width": 0.5
             },
             "pattern": {
              "fillmode": "overlay",
              "size": 10,
              "solidity": 0.2
             }
            },
            "type": "bar"
           }
          ],
          "barpolar": [
           {
            "marker": {
             "line": {
              "color": "white",
              "width": 0.5
             },
             "pattern": {
              "fillmode": "overlay",
              "size": 10,
              "solidity": 0.2
             }
            },
            "type": "barpolar"
           }
          ],
          "carpet": [
           {
            "aaxis": {
             "endlinecolor": "#2a3f5f",
             "gridcolor": "#C8D4E3",
             "linecolor": "#C8D4E3",
             "minorgridcolor": "#C8D4E3",
             "startlinecolor": "#2a3f5f"
            },
            "baxis": {
             "endlinecolor": "#2a3f5f",
             "gridcolor": "#C8D4E3",
             "linecolor": "#C8D4E3",
             "minorgridcolor": "#C8D4E3",
             "startlinecolor": "#2a3f5f"
            },
            "type": "carpet"
           }
          ],
          "choropleth": [
           {
            "colorbar": {
             "outlinewidth": 0,
             "ticks": ""
            },
            "type": "choropleth"
           }
          ],
          "contour": [
           {
            "colorbar": {
             "outlinewidth": 0,
             "ticks": ""
            },
            "colorscale": [
             [
              0,
              "#0d0887"
             ],
             [
              0.1111111111111111,
              "#46039f"
             ],
             [
              0.2222222222222222,
              "#7201a8"
             ],
             [
              0.3333333333333333,
              "#9c179e"
             ],
             [
              0.4444444444444444,
              "#bd3786"
             ],
             [
              0.5555555555555556,
              "#d8576b"
             ],
             [
              0.6666666666666666,
              "#ed7953"
             ],
             [
              0.7777777777777778,
              "#fb9f3a"
             ],
             [
              0.8888888888888888,
              "#fdca26"
             ],
             [
              1,
              "#f0f921"
             ]
            ],
            "type": "contour"
           }
          ],
          "contourcarpet": [
           {
            "colorbar": {
             "outlinewidth": 0,
             "ticks": ""
            },
            "type": "contourcarpet"
           }
          ],
          "heatmap": [
           {
            "colorbar": {
             "outlinewidth": 0,
             "ticks": ""
            },
            "colorscale": [
             [
              0,
              "#0d0887"
             ],
             [
              0.1111111111111111,
              "#46039f"
             ],
             [
              0.2222222222222222,
              "#7201a8"
             ],
             [
              0.3333333333333333,
              "#9c179e"
             ],
             [
              0.4444444444444444,
              "#bd3786"
             ],
             [
              0.5555555555555556,
              "#d8576b"
             ],
             [
              0.6666666666666666,
              "#ed7953"
             ],
             [
              0.7777777777777778,
              "#fb9f3a"
             ],
             [
              0.8888888888888888,
              "#fdca26"
             ],
             [
              1,
              "#f0f921"
             ]
            ],
            "type": "heatmap"
           }
          ],
          "heatmapgl": [
           {
            "colorbar": {
             "outlinewidth": 0,
             "ticks": ""
            },
            "colorscale": [
             [
              0,
              "#0d0887"
             ],
             [
              0.1111111111111111,
              "#46039f"
             ],
             [
              0.2222222222222222,
              "#7201a8"
             ],
             [
              0.3333333333333333,
              "#9c179e"
             ],
             [
              0.4444444444444444,
              "#bd3786"
             ],
             [
              0.5555555555555556,
              "#d8576b"
             ],
             [
              0.6666666666666666,
              "#ed7953"
             ],
             [
              0.7777777777777778,
              "#fb9f3a"
             ],
             [
              0.8888888888888888,
              "#fdca26"
             ],
             [
              1,
              "#f0f921"
             ]
            ],
            "type": "heatmapgl"
           }
          ],
          "histogram": [
           {
            "marker": {
             "pattern": {
              "fillmode": "overlay",
              "size": 10,
              "solidity": 0.2
             }
            },
            "type": "histogram"
           }
          ],
          "histogram2d": [
           {
            "colorbar": {
             "outlinewidth": 0,
             "ticks": ""
            },
            "colorscale": [
             [
              0,
              "#0d0887"
             ],
             [
              0.1111111111111111,
              "#46039f"
             ],
             [
              0.2222222222222222,
              "#7201a8"
             ],
             [
              0.3333333333333333,
              "#9c179e"
             ],
             [
              0.4444444444444444,
              "#bd3786"
             ],
             [
              0.5555555555555556,
              "#d8576b"
             ],
             [
              0.6666666666666666,
              "#ed7953"
             ],
             [
              0.7777777777777778,
              "#fb9f3a"
             ],
             [
              0.8888888888888888,
              "#fdca26"
             ],
             [
              1,
              "#f0f921"
             ]
            ],
            "type": "histogram2d"
           }
          ],
          "histogram2dcontour": [
           {
            "colorbar": {
             "outlinewidth": 0,
             "ticks": ""
            },
            "colorscale": [
             [
              0,
              "#0d0887"
             ],
             [
              0.1111111111111111,
              "#46039f"
             ],
             [
              0.2222222222222222,
              "#7201a8"
             ],
             [
              0.3333333333333333,
              "#9c179e"
             ],
             [
              0.4444444444444444,
              "#bd3786"
             ],
             [
              0.5555555555555556,
              "#d8576b"
             ],
             [
              0.6666666666666666,
              "#ed7953"
             ],
             [
              0.7777777777777778,
              "#fb9f3a"
             ],
             [
              0.8888888888888888,
              "#fdca26"
             ],
             [
              1,
              "#f0f921"
             ]
            ],
            "type": "histogram2dcontour"
           }
          ],
          "mesh3d": [
           {
            "colorbar": {
             "outlinewidth": 0,
             "ticks": ""
            },
            "type": "mesh3d"
           }
          ],
          "parcoords": [
           {
            "line": {
             "colorbar": {
              "outlinewidth": 0,
              "ticks": ""
             }
            },
            "type": "parcoords"
           }
          ],
          "pie": [
           {
            "automargin": true,
            "type": "pie"
           }
          ],
          "scatter": [
           {
            "fillpattern": {
             "fillmode": "overlay",
             "size": 10,
             "solidity": 0.2
            },
            "type": "scatter"
           }
          ],
          "scatter3d": [
           {
            "line": {
             "colorbar": {
              "outlinewidth": 0,
              "ticks": ""
             }
            },
            "marker": {
             "colorbar": {
              "outlinewidth": 0,
              "ticks": ""
             }
            },
            "type": "scatter3d"
           }
          ],
          "scattercarpet": [
           {
            "marker": {
             "colorbar": {
              "outlinewidth": 0,
              "ticks": ""
             }
            },
            "type": "scattercarpet"
           }
          ],
          "scattergeo": [
           {
            "marker": {
             "colorbar": {
              "outlinewidth": 0,
              "ticks": ""
             }
            },
            "type": "scattergeo"
           }
          ],
          "scattergl": [
           {
            "marker": {
             "colorbar": {
              "outlinewidth": 0,
              "ticks": ""
             }
            },
            "type": "scattergl"
           }
          ],
          "scattermapbox": [
           {
            "marker": {
             "colorbar": {
              "outlinewidth": 0,
              "ticks": ""
             }
            },
            "type": "scattermapbox"
           }
          ],
          "scatterpolar": [
           {
            "marker": {
             "colorbar": {
              "outlinewidth": 0,
              "ticks": ""
             }
            },
            "type": "scatterpolar"
           }
          ],
          "scatterpolargl": [
           {
            "marker": {
             "colorbar": {
              "outlinewidth": 0,
              "ticks": ""
             }
            },
            "type": "scatterpolargl"
           }
          ],
          "scatterternary": [
           {
            "marker": {
             "colorbar": {
              "outlinewidth": 0,
              "ticks": ""
             }
            },
            "type": "scatterternary"
           }
          ],
          "surface": [
           {
            "colorbar": {
             "outlinewidth": 0,
             "ticks": ""
            },
            "colorscale": [
             [
              0,
              "#0d0887"
             ],
             [
              0.1111111111111111,
              "#46039f"
             ],
             [
              0.2222222222222222,
              "#7201a8"
             ],
             [
              0.3333333333333333,
              "#9c179e"
             ],
             [
              0.4444444444444444,
              "#bd3786"
             ],
             [
              0.5555555555555556,
              "#d8576b"
             ],
             [
              0.6666666666666666,
              "#ed7953"
             ],
             [
              0.7777777777777778,
              "#fb9f3a"
             ],
             [
              0.8888888888888888,
              "#fdca26"
             ],
             [
              1,
              "#f0f921"
             ]
            ],
            "type": "surface"
           }
          ],
          "table": [
           {
            "cells": {
             "fill": {
              "color": "#EBF0F8"
             },
             "line": {
              "color": "white"
             }
            },
            "header": {
             "fill": {
              "color": "#C8D4E3"
             },
             "line": {
              "color": "white"
             }
            },
            "type": "table"
           }
          ]
         },
         "layout": {
          "annotationdefaults": {
           "arrowcolor": "#2a3f5f",
           "arrowhead": 0,
           "arrowwidth": 1
          },
          "autotypenumbers": "strict",
          "coloraxis": {
           "colorbar": {
            "outlinewidth": 0,
            "ticks": ""
           }
          },
          "colorscale": {
           "diverging": [
            [
             0,
             "#8e0152"
            ],
            [
             0.1,
             "#c51b7d"
            ],
            [
             0.2,
             "#de77ae"
            ],
            [
             0.3,
             "#f1b6da"
            ],
            [
             0.4,
             "#fde0ef"
            ],
            [
             0.5,
             "#f7f7f7"
            ],
            [
             0.6,
             "#e6f5d0"
            ],
            [
             0.7,
             "#b8e186"
            ],
            [
             0.8,
             "#7fbc41"
            ],
            [
             0.9,
             "#4d9221"
            ],
            [
             1,
             "#276419"
            ]
           ],
           "sequential": [
            [
             0,
             "#0d0887"
            ],
            [
             0.1111111111111111,
             "#46039f"
            ],
            [
             0.2222222222222222,
             "#7201a8"
            ],
            [
             0.3333333333333333,
             "#9c179e"
            ],
            [
             0.4444444444444444,
             "#bd3786"
            ],
            [
             0.5555555555555556,
             "#d8576b"
            ],
            [
             0.6666666666666666,
             "#ed7953"
            ],
            [
             0.7777777777777778,
             "#fb9f3a"
            ],
            [
             0.8888888888888888,
             "#fdca26"
            ],
            [
             1,
             "#f0f921"
            ]
           ],
           "sequentialminus": [
            [
             0,
             "#0d0887"
            ],
            [
             0.1111111111111111,
             "#46039f"
            ],
            [
             0.2222222222222222,
             "#7201a8"
            ],
            [
             0.3333333333333333,
             "#9c179e"
            ],
            [
             0.4444444444444444,
             "#bd3786"
            ],
            [
             0.5555555555555556,
             "#d8576b"
            ],
            [
             0.6666666666666666,
             "#ed7953"
            ],
            [
             0.7777777777777778,
             "#fb9f3a"
            ],
            [
             0.8888888888888888,
             "#fdca26"
            ],
            [
             1,
             "#f0f921"
            ]
           ]
          },
          "colorway": [
           "#636efa",
           "#EF553B",
           "#00cc96",
           "#ab63fa",
           "#FFA15A",
           "#19d3f3",
           "#FF6692",
           "#B6E880",
           "#FF97FF",
           "#FECB52"
          ],
          "font": {
           "color": "#2a3f5f"
          },
          "geo": {
           "bgcolor": "white",
           "lakecolor": "white",
           "landcolor": "white",
           "showlakes": true,
           "showland": true,
           "subunitcolor": "#C8D4E3"
          },
          "hoverlabel": {
           "align": "left"
          },
          "hovermode": "closest",
          "mapbox": {
           "style": "light"
          },
          "paper_bgcolor": "white",
          "plot_bgcolor": "white",
          "polar": {
           "angularaxis": {
            "gridcolor": "#EBF0F8",
            "linecolor": "#EBF0F8",
            "ticks": ""
           },
           "bgcolor": "white",
           "radialaxis": {
            "gridcolor": "#EBF0F8",
            "linecolor": "#EBF0F8",
            "ticks": ""
           }
          },
          "scene": {
           "xaxis": {
            "backgroundcolor": "white",
            "gridcolor": "#DFE8F3",
            "gridwidth": 2,
            "linecolor": "#EBF0F8",
            "showbackground": true,
            "ticks": "",
            "zerolinecolor": "#EBF0F8"
           },
           "yaxis": {
            "backgroundcolor": "white",
            "gridcolor": "#DFE8F3",
            "gridwidth": 2,
            "linecolor": "#EBF0F8",
            "showbackground": true,
            "ticks": "",
            "zerolinecolor": "#EBF0F8"
           },
           "zaxis": {
            "backgroundcolor": "white",
            "gridcolor": "#DFE8F3",
            "gridwidth": 2,
            "linecolor": "#EBF0F8",
            "showbackground": true,
            "ticks": "",
            "zerolinecolor": "#EBF0F8"
           }
          },
          "shapedefaults": {
           "line": {
            "color": "#2a3f5f"
           }
          },
          "ternary": {
           "aaxis": {
            "gridcolor": "#DFE8F3",
            "linecolor": "#A2B1C6",
            "ticks": ""
           },
           "baxis": {
            "gridcolor": "#DFE8F3",
            "linecolor": "#A2B1C6",
            "ticks": ""
           },
           "bgcolor": "white",
           "caxis": {
            "gridcolor": "#DFE8F3",
            "linecolor": "#A2B1C6",
            "ticks": ""
           }
          },
          "title": {
           "x": 0.05
          },
          "xaxis": {
           "automargin": true,
           "gridcolor": "#EBF0F8",
           "linecolor": "#EBF0F8",
           "ticks": "",
           "title": {
            "standoff": 15
           },
           "zerolinecolor": "#EBF0F8",
           "zerolinewidth": 2
          },
          "yaxis": {
           "automargin": true,
           "gridcolor": "#EBF0F8",
           "linecolor": "#EBF0F8",
           "ticks": "",
           "title": {
            "standoff": 15
           },
           "zerolinecolor": "#EBF0F8",
           "zerolinewidth": 2
          }
         }
        },
        "title": {
         "text": "Predicted Probabilities (Sorted)"
        },
        "xaxis": {
         "anchor": "y",
         "domain": [
          0,
          1
         ],
         "title": {
          "text": "x"
         }
        },
        "yaxis": {
         "anchor": "x",
         "domain": [
          0,
          1
         ],
         "title": {
          "text": "Probability"
         }
        }
       }
      }
     },
     "metadata": {},
     "output_type": "display_data"
    }
   ],
   "source": [
    "# sort the predictions for plotting purposes.\n",
    "sorted_indices = np.argsort(y_pred_probabiltiies)\n",
    "predictions = y_pred_probabiltiies[sorted_indices]\n",
    "labels = y_test[sorted_indices]\n",
    "\n",
    "fig = px.scatter(y = predictions, x = list(range(len(predictions))), title = \"Predicted Probabilities (Sorted)\", labels = {\"y\": \"Probability\"}, template = \"plotly_white\")\n",
    "fig.add_scatter(y = labels, x = list(range(len(labels))), mode = \"markers\", name = \"True Labels\")\n"
   ]
  },
  {
   "cell_type": "code",
   "execution_count": 19,
   "metadata": {},
   "outputs": [
    {
     "data": {
      "text/plain": [
       "[array([[7, 8],\n",
       "        [1, 2],\n",
       "        [5, 6]]),\n",
       " array([[3, 4]]),\n",
       " array([1, 0, 0]),\n",
       " array([1])]"
      ]
     },
     "execution_count": 19,
     "metadata": {},
     "output_type": "execute_result"
    }
   ],
   "source": [
    "x = np.array([[1, 2], [3, 4], [5, 6], [7, 8]])\n",
    "y = np.array([0, 1, 0, 1])\n",
    "split_data(x, y)"
   ]
  },
  {
   "cell_type": "code",
   "execution_count": 25,
   "metadata": {},
   "outputs": [
    {
     "name": "stdout",
     "output_type": "stream",
     "text": [
      "[0.5753931  0.42906394 0.08031673 0.86726101]\n"
     ]
    }
   ],
   "source": [
    "train_x = [0.32084576,  1.30057122,  0.60076732,  1.02064966,  1.58049278, -0.65887969, -0.51891891,  0.60076732]\n",
    "train_x = np.array(train_x).reshape(-1, 2)\n",
    "train_y = np.array([0, 1, 0, 1])\n",
    "weights = logistic_regression_gradient_descent(train_x, train_y)\n",
    "predictions = logistic_regression_predict(train_x, weights)\n",
    "print(predictions)\n",
    "assert np.allclose(predictions, [0.5753931, 0.42906394, 0.08031673, 0.86726101])"
   ]
  }
 ],
 "metadata": {
  "kernelspec": {
   "display_name": "cs326",
   "language": "python",
   "name": "python3"
  },
  "language_info": {
   "codemirror_mode": {
    "name": "ipython",
    "version": 3
   },
   "file_extension": ".py",
   "mimetype": "text/x-python",
   "name": "python",
   "nbconvert_exporter": "python",
   "pygments_lexer": "ipython3",
   "version": "3.12.5"
  }
 },
 "nbformat": 4,
 "nbformat_minor": 2
}
